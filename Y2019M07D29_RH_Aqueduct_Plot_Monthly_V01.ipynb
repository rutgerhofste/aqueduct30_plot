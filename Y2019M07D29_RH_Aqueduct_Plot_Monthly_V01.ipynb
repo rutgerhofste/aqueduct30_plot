{
  "nbformat": 4,
  "nbformat_minor": 0,
  "metadata": {
    "colab": {
      "name": "Y2019M07D29_RH_Aqueduct_Plot_Monthly_V01.ipynb",
      "version": "0.3.2",
      "provenance": [],
      "include_colab_link": true
    },
    "kernelspec": {
      "name": "python3",
      "display_name": "Python 3"
    }
  },
  "cells": [
    {
      "cell_type": "markdown",
      "metadata": {
        "id": "view-in-github",
        "colab_type": "text"
      },
      "source": [
        "<a href=\"https://colab.research.google.com/github/rutgerhofste/aqueduct30_plot/blob/master/Y2019M07D29_RH_Aqueduct_Plot_Monthly_V01.ipynb\" target=\"_parent\"><img src=\"https://colab.research.google.com/assets/colab-badge.svg\" alt=\"Open In Colab\"/></a>"
      ]
    },
    {
      "cell_type": "code",
      "metadata": {
        "id": "gOy7CnxoS4L6",
        "colab_type": "code",
        "colab": {}
      },
      "source": [
        "\"\"\"\n",
        "Plot Aqueduct monthly water stress \n",
        "\n",
        "\n",
        "\"\"\"\n",
        "\n",
        "SCRIPT_NAME = \"Y2019M07D29_RH_Aqueduct_Plot_Monthly_V01\"\n",
        "OUTPUT_VERSION = 2\n",
        "\n",
        "GCS_INPUT_PATH_DATA = 'gs://aqueduct30_v01/Y2019M07D12_Aqueduct30_V01'\n",
        "GCS_INPUT_PATH_GEOM = \"gs://aqueduct30_v01/Y2019M07D24_RH_Reproject_Simplified_Geometries_V01/output_V01/miller\"\n",
        "\n",
        "\n",
        "TESTING = 0\n",
        "\n",
        "output_path = \"{}/output_V{:02.0f}\".format(SCRIPT_NAME,OUTPUT_VERSION)\n",
        "\n",
        "\n",
        "GCS_OUTPUT_PATH = \"gs://aqueduct30_v01/{}\".format(output_path)"
      ],
      "execution_count": 0,
      "outputs": []
    },
    {
      "cell_type": "code",
      "metadata": {
        "id": "EKaBYP6FTVmz",
        "colab_type": "code",
        "outputId": "db8b2cc7-2e82-442d-8fcb-ec5beacd8889",
        "colab": {
          "base_uri": "https://localhost:8080/",
          "height": 274
        }
      },
      "source": [
        "!pip install geopandas"
      ],
      "execution_count": 0,
      "outputs": [
        {
          "output_type": "stream",
          "text": [
            "Requirement already satisfied: geopandas in /usr/local/lib/python3.6/dist-packages (0.5.1)\n",
            "Requirement already satisfied: pyproj in /usr/local/lib/python3.6/dist-packages (from geopandas) (2.2.1)\n",
            "Requirement already satisfied: fiona in /usr/local/lib/python3.6/dist-packages (from geopandas) (1.8.6)\n",
            "Requirement already satisfied: pandas in /usr/local/lib/python3.6/dist-packages (from geopandas) (0.24.2)\n",
            "Requirement already satisfied: shapely in /usr/local/lib/python3.6/dist-packages (from geopandas) (1.6.4.post2)\n",
            "Requirement already satisfied: click-plugins>=1.0 in /usr/local/lib/python3.6/dist-packages (from fiona->geopandas) (1.1.1)\n",
            "Requirement already satisfied: six>=1.7 in /usr/local/lib/python3.6/dist-packages (from fiona->geopandas) (1.12.0)\n",
            "Requirement already satisfied: attrs>=17 in /usr/local/lib/python3.6/dist-packages (from fiona->geopandas) (19.1.0)\n",
            "Requirement already satisfied: cligj>=0.5 in /usr/local/lib/python3.6/dist-packages (from fiona->geopandas) (0.5.0)\n",
            "Requirement already satisfied: click<8,>=4.0 in /usr/local/lib/python3.6/dist-packages (from fiona->geopandas) (7.0)\n",
            "Requirement already satisfied: munch in /usr/local/lib/python3.6/dist-packages (from fiona->geopandas) (2.3.2)\n",
            "Requirement already satisfied: python-dateutil>=2.5.0 in /usr/local/lib/python3.6/dist-packages (from pandas->geopandas) (2.5.3)\n",
            "Requirement already satisfied: numpy>=1.12.0 in /usr/local/lib/python3.6/dist-packages (from pandas->geopandas) (1.16.4)\n",
            "Requirement already satisfied: pytz>=2011k in /usr/local/lib/python3.6/dist-packages (from pandas->geopandas) (2018.9)\n"
          ],
          "name": "stdout"
        }
      ]
    },
    {
      "cell_type": "code",
      "metadata": {
        "id": "PO-AGU1OTh1B",
        "colab_type": "code",
        "colab": {}
      },
      "source": [
        "import geopandas as gpd\n",
        "import pandas as pd\n",
        "from matplotlib.colors import LinearSegmentedColormap\n",
        "import matplotlib.pyplot as plt"
      ],
      "execution_count": 0,
      "outputs": []
    },
    {
      "cell_type": "code",
      "metadata": {
        "id": "fefefRryTjk5",
        "colab_type": "code",
        "colab": {}
      },
      "source": [
        "from google.colab import auth\n",
        "auth.authenticate_user()"
      ],
      "execution_count": 0,
      "outputs": []
    },
    {
      "cell_type": "code",
      "metadata": {
        "id": "D6dgRrt3Vedg",
        "colab_type": "code",
        "colab": {}
      },
      "source": [
        "\n",
        "#https://epsg.io/54030\n",
        "robinson = \"+proj=robin +lon_0=0 +x_0=0 +y_0=0 +datum=WGS84 +units=m +no_defs\"\n",
        "\n",
        "#https://epsg.io/54003\n",
        "miller = \"+proj=mill +lat_0=0 +lon_0=0 +x_0=0 +y_0=0 +R_A +datum=WGS84 +units=m +no_defs\""
      ],
      "execution_count": 0,
      "outputs": []
    },
    {
      "cell_type": "code",
      "metadata": {
        "id": "VdY5HFEyUBee",
        "colab_type": "code",
        "outputId": "38c9900f-dc7b-4123-ef93-4116677824e0",
        "colab": {
          "base_uri": "https://localhost:8080/",
          "height": 35
        }
      },
      "source": [
        "!mkdir -p {output_path}\n",
        "!mkdir ./input_data"
      ],
      "execution_count": 0,
      "outputs": [
        {
          "output_type": "stream",
          "text": [
            "mkdir: cannot create directory ‘./input_data’: File exists\n"
          ],
          "name": "stdout"
        }
      ]
    },
    {
      "cell_type": "code",
      "metadata": {
        "id": "oCKuT5CGTl1C",
        "colab_type": "code",
        "colab": {}
      },
      "source": [
        "!gsutil -m -q cp -r {GCS_INPUT_PATH_DATA} ./input_data \n",
        "!gsutil -m -q cp -r {GCS_INPUT_PATH_GEOM} ./input_data "
      ],
      "execution_count": 0,
      "outputs": []
    },
    {
      "cell_type": "code",
      "metadata": {
        "id": "B5iOFrBKUsBc",
        "colab_type": "code",
        "colab": {}
      },
      "source": [
        "def get_boundaries(perspective=\"intl\"):\n",
        "  \"\"\"\n",
        "  Get bounds and country files based on WRI's bounds github repo\n",
        "  https://github.com/wri/wri-bounds\n",
        "  \n",
        "  Args:\n",
        "    perspective(string): perspecive, options intl ch in for international\n",
        "      china and india respectively. default: intl\n",
        "  Returns:\n",
        "    all_countries(geodataframe): GeoDataFrae with all countries.\n",
        "    non_disputed(geodataframe): GeoDataFrame with non-disputed borders.\n",
        "    disputed(geodataframe): GeoDataFrame with diputed borders.  \n",
        "\n",
        "  \"\"\"\n",
        "  if perspective == \"intl\":\n",
        "    perspective_all_countries = \"all\"\n",
        "  else:\n",
        "    perspective_all_countries = perspective\n",
        "\n",
        "\n",
        "  disputed = gpd.read_file(\"https://raw.githubusercontent.com/wri/wri-bounds/master/dist/{}_disputed_boundaries.geojson\".format(perspective))\n",
        "  non_disputed = gpd.read_file(\"https://raw.githubusercontent.com/wri/wri-bounds/master/dist/{}_country_boundaries.geojson\".format(perspective))\n",
        "  all_countries = gpd.read_file(\"https://raw.githubusercontent.com/wri/wri-bounds/master/dist/{}_countries.geojson\".format(perspective_all_countries))\n",
        "  return all_countries, non_disputed, disputed\n",
        "\n",
        "def get_extent_miller(scope=\"global\",countries=None,buffer=0):\n",
        "  \"\"\"\n",
        "  Get extent in miller projection\n",
        "  \n",
        "  Args:\n",
        "    scope(string): 'global', 'country' or 'region'. defaults to 'global'\n",
        "    countries(list): list of country ADM0_A3 codes.\n",
        "    buffer(integer): Absolute buffer in Miller projection\n",
        "  \n",
        "  Returns:\n",
        "    xmin(integer): xmin\n",
        "    xmax(integer): xmax\n",
        "    ymin(integer): ymin\n",
        "    ymax(integer): ymax    \n",
        "  \n",
        "  \"\"\"  \n",
        "  \n",
        "  if scope == \"global\": \n",
        "    extent_miller = [-20000000, 20000000, -8000000, 13000000]\n",
        "    xmin, xmax, ymin, ymax = extent_miller\n",
        "  elif scope==\"countries\":\n",
        "    ADM0_A3s = countries\n",
        "    country_geom = all_countries_projected.loc[all_countries_projected[\"ADM0_A3\"].isin(ADM0_A3s)]\n",
        "    extent_miller = list(country_geom.total_bounds)\n",
        "    xmin, ymin, xmax, ymax = extent_miller   \n",
        "    \n",
        " \n",
        "  xmin = xmin -buffer\n",
        "  xmax = xmax +buffer\n",
        "  ymin = ymin -buffer\n",
        "  ymax = ymax +buffer\n",
        "    \n",
        "  return xmin, xmax, ymin, ymax\n",
        "\n",
        "\n",
        "\n",
        "def plot_aqueduct_bws(column,output_filename,xmin,xmax,ymin,ymax,gdf,disputed,non_disputed,bordercolor):\n",
        "  \"\"\"\n",
        "  Plot Aqueduct data with non_disputed and disputed boundaries.\n",
        "  \n",
        "  Args:\n",
        "    Column(string): Column to visualize\n",
        "    output_filename(string): Output filename excluding extension. \n",
        "    xmin(integer): xmin\n",
        "    xmax(integer): xmax\n",
        "    ymin(integer): ymin\n",
        "    ymax(integer): ymax  \n",
        "    gdf(geodataframe): Geodataframe with the data..\n",
        "    diputed(geodataframe): Disputed borders geodatabase.\n",
        "    non_disputed(geodataframe): Non-Disputed borders geodatabase.  \n",
        "  \n",
        "  \"\"\"  \n",
        "  \n",
        "  fig, ax = plt.subplots()\n",
        "  ax.set_xlim(xmin, xmax)\n",
        "  ax.set_ylim(ymin , ymax)\n",
        "  \n",
        "  ax.title.set_text(column)\n",
        " \n",
        "  \n",
        "  categories = gdf[column].unique()  \n",
        "  for category in categories:\n",
        "    gdf_sel = gdf.loc[gdf[column]==category]\n",
        "    color_hex = color_dict[category]\n",
        "    gdf_sel.plot(ax=ax,color=color_hex,edgecolor=color_hex,linewidth=0.1)\n",
        "  \n",
        "  if bordercolor == \"None\":\n",
        "    pass\n",
        "  else:\n",
        "    non_disputed.plot(ax=ax,color=bordercolor,linewidth=0.1)\n",
        "    disputed.plot(ax=ax,color=bordercolor,linewidth=0.1,linestyle=\"dotted\")\n",
        "  plt.axis('off')\n",
        "  fig.savefig(output_filename+\".pdf\",dpi=300)\n",
        "  fig.savefig(output_filename+\".jpg\",dpi=300)\n",
        "  return 1\n",
        "  \n",
        "def get_aqueduct_data():\n",
        "  \"\"\"\n",
        "  get aqueduct data\n",
        "  \n",
        "  \n",
        "  \"\"\"\n",
        "  gdf_geom = gpd.read_file(\"./input_data/miller/hybas_lev06_v1c_merged_fiona_V04.shp\")\n",
        "  gdf_geom.crs = miller\n",
        "  gdf_geom = gdf_geom[[\"PFAF_ID\",\"geometry\"]]\n",
        "  \n",
        "  filename = \"./input_data/Y2019M07D12_Aqueduct30_V01/baseline/monthly/y2019m07d12_rh_aqueduct30_data_download_monthly_v01.gpkg\"\n",
        "  gdf_raw = gpd.read_file(filename)\n",
        "  df_raw = gdf_raw.drop(columns=\"geometry\")\n",
        "  gdf_merged = gdf_geom.merge(right=df_raw,\n",
        "                            how = \"left\",\n",
        "                            left_on = \"PFAF_ID\",\n",
        "                            right_on=\"pfaf_id\")\n",
        "  gdf_merged.fillna(value=-9999,inplace=True)\n",
        "\n",
        "  if TESTING:\n",
        "    gdf_out = gdf_miller.sample(frac=0.01)\n",
        "  else:\n",
        "    gdf_out = gdf_miller.copy()\n",
        "  return gdf_out\n",
        " \n",
        "\n",
        "  \n",
        "\"\"\"\n",
        "colors = ['#4E4E4E', '#808080','#FFFF99', '#FFE600', '#FF9900', '#FF1900', '#990000']\n",
        "cmap = LinearSegmentedColormap.from_list('aqueduct_bws', colors)\n",
        "\"\"\"\n",
        "color_dict = {\n",
        "    -9999:\"#4E4E4E\",\n",
        "    -1:\"#808080\",\n",
        "    0:\"#FFFF99\",\n",
        "    1:\"#FFE600\",\n",
        "    2:\"#FF9900\",\n",
        "    3:\"#FF1900\",\n",
        "    4:\"#990000\"\n",
        "}"
      ],
      "execution_count": 0,
      "outputs": []
    },
    {
      "cell_type": "code",
      "metadata": {
        "id": "3NXgxe71bicU",
        "colab_type": "code",
        "colab": {}
      },
      "source": [
        "gdf = get_aqueduct_data()"
      ],
      "execution_count": 0,
      "outputs": []
    },
    {
      "cell_type": "code",
      "metadata": {
        "id": "599d_4ahbZ0k",
        "colab_type": "code",
        "colab": {}
      },
      "source": [
        "gdf.fillna(value=-9999,inplace=True)"
      ],
      "execution_count": 0,
      "outputs": []
    },
    {
      "cell_type": "code",
      "metadata": {
        "id": "iJPB7XotVWgW",
        "colab_type": "code",
        "outputId": "df02d4f2-6173-440e-e8e5-e4f806778b82",
        "colab": {
          "base_uri": "https://localhost:8080/",
          "height": 458
        }
      },
      "source": [
        "for month in range(1,13):\n",
        "  print(month)\n",
        "  \n",
        "  perspective = \"intl\"\n",
        "  scope = \"global\"\n",
        "  countries = None\n",
        "  buffer = 0\n",
        "  column = \"bws_{:02.0f}_cat\".format(month)\n",
        "  \n",
        "  all_countries, non_disputed, disputed = get_boundaries(perspective=perspective)\n",
        "\n",
        "  disputed_projected = disputed.to_crs(miller)\n",
        "  non_disputed_projected = non_disputed.to_crs(miller)\n",
        "  all_countries_projected = all_countries.to_crs(miller)\n",
        "  \n",
        "  xmin, xmax, ymin, ymax = get_extent_miller(scope,countries,buffer)\n",
        "  output_filename = \"{}/bws_{:02.0f}_cat_{:02.0f}\".format(output_path,month,OUTPUT_VERSION)\n",
        "  \n",
        "  print(output_filename,perspective, scope,xmin,xmax,ymin,ymax)\n",
        "  \n",
        "  bordercolor = \"#4E4E4E\"\n",
        "  \n",
        "  plot_aqueduct_bws(column,output_filename,xmin,xmax,ymin,ymax,gdf,disputed_projected,non_disputed_projected,bordercolor)"
      ],
      "execution_count": 0,
      "outputs": [
        {
          "output_type": "stream",
          "text": [
            "1\n",
            "Y2019M07D29_RH_Aqueduct_Plot_Monthly_V01/output_V01/bws_01_cat_01 intl global -20000000 20000000 -8000000 13000000\n",
            "2\n",
            "Y2019M07D29_RH_Aqueduct_Plot_Monthly_V01/output_V01/bws_02_cat_01 intl global -20000000 20000000 -8000000 13000000\n",
            "3\n",
            "Y2019M07D29_RH_Aqueduct_Plot_Monthly_V01/output_V01/bws_03_cat_01 intl global -20000000 20000000 -8000000 13000000\n",
            "4\n",
            "Y2019M07D29_RH_Aqueduct_Plot_Monthly_V01/output_V01/bws_04_cat_01 intl global -20000000 20000000 -8000000 13000000\n",
            "5\n",
            "Y2019M07D29_RH_Aqueduct_Plot_Monthly_V01/output_V01/bws_05_cat_01 intl global -20000000 20000000 -8000000 13000000\n",
            "6\n",
            "Y2019M07D29_RH_Aqueduct_Plot_Monthly_V01/output_V01/bws_06_cat_01 intl global -20000000 20000000 -8000000 13000000\n",
            "7\n",
            "Y2019M07D29_RH_Aqueduct_Plot_Monthly_V01/output_V01/bws_07_cat_01 intl global -20000000 20000000 -8000000 13000000\n",
            "8\n",
            "Y2019M07D29_RH_Aqueduct_Plot_Monthly_V01/output_V01/bws_08_cat_01 intl global -20000000 20000000 -8000000 13000000\n",
            "9\n",
            "Y2019M07D29_RH_Aqueduct_Plot_Monthly_V01/output_V01/bws_09_cat_01 intl global -20000000 20000000 -8000000 13000000\n",
            "10\n",
            "Y2019M07D29_RH_Aqueduct_Plot_Monthly_V01/output_V01/bws_10_cat_01 intl global -20000000 20000000 -8000000 13000000\n",
            "11\n",
            "Y2019M07D29_RH_Aqueduct_Plot_Monthly_V01/output_V01/bws_11_cat_01 intl global -20000000 20000000 -8000000 13000000\n",
            "12\n",
            "Y2019M07D29_RH_Aqueduct_Plot_Monthly_V01/output_V01/bws_12_cat_01 intl global -20000000 20000000 -8000000 13000000\n"
          ],
          "name": "stdout"
        }
      ]
    },
    {
      "cell_type": "code",
      "metadata": {
        "id": "QjorV9nbWoVf",
        "colab_type": "code",
        "colab": {}
      },
      "source": [
        "!gsutil -m cp -r {output_path} {GCS_OUTPUT_PATH}"
      ],
      "execution_count": 0,
      "outputs": []
    },
    {
      "cell_type": "code",
      "metadata": {
        "id": "WYmSI_Bqb-4m",
        "colab_type": "code",
        "colab": {}
      },
      "source": [
        ""
      ],
      "execution_count": 0,
      "outputs": []
    }
  ]
}